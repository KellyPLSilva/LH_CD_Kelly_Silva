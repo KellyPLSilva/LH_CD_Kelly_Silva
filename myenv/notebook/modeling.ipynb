{
 "cells": [
  {
   "cell_type": "code",
   "execution_count": null,
   "metadata": {},
   "outputs": [],
   "source": [
    "# Scatter plot de Meta_score vs IMDB_Rating\n",
    "plt.figure(figsize=(10, 6))\n",
    "sns.scatterplot(x='Meta_score', y='IMDB_Rating', data=df)\n",
    "plt.title('Relação entre Meta_score e Nota do IMDb')\n",
    "plt.xlabel('Meta_score')\n",
    "plt.ylabel('IMDB_Rating')\n",
    "plt.show()\n"
   ]
  },
  {
   "cell_type": "code",
   "execution_count": null,
   "metadata": {},
   "outputs": [],
   "source": [
    "# Boxplot de Faturamento (Gross) por Gênero (Genre)\n",
    "plt.figure(figsize=(12, 8))\n",
    "sns.boxplot(x='Genre', y='Gross', data=df)\n",
    "plt.xticks(rotation=45)\n",
    "plt.title('Faturamento por Gênero')\n",
    "plt.xlabel('Gênero')\n",
    "plt.ylabel('Faturamento')\n",
    "plt.show()\n"
   ]
  }
 ],
 "metadata": {
  "language_info": {
   "name": "python"
  }
 },
 "nbformat": 4,
 "nbformat_minor": 2
}
