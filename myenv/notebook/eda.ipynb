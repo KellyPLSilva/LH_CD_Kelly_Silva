{
 "cells": [
  {
   "cell_type": "code",
   "execution_count": null,
   "metadata": {},
   "outputs": [],
   "source": [
    "import matplotlib.pyplot as plt\n",
    "import seaborn as sns\n",
    "\n",
    "# Plotagem do histograma do faturamento (Gross)\n",
    "plt.figure(figsize=(10, 6))\n",
    "sns.histplot(df['Gross'].dropna(), bins=30, kde=True)\n",
    "plt.title('Distribuição do Faturamento dos Filmes')\n",
    "plt.xlabel('Faturamento')\n",
    "plt.ylabel('Contagem')\n",
    "plt.show()\n"
   ]
  }
 ],
 "metadata": {
  "language_info": {
   "name": "python"
  }
 },
 "nbformat": 4,
 "nbformat_minor": 2
}
